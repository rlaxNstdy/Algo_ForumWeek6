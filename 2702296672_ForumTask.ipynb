{
 "cells": [
  {
   "cell_type": "code",
   "execution_count": 1,
   "id": "74d4bd66-c818-40e3-a3a8-ba63f8668be7",
   "metadata": {},
   "outputs": [
    {
     "name": "stdout",
     "output_type": "stream",
     "text": [
      "Name: Lloyd\n",
      "Homework: [90.0, 97.0, 75.0, 92.0]\n",
      "Quizzes: [88.0, 40.0, 94.0]\n",
      "Tests: [75.0, 90.0]\n",
      "Name: Alice\n",
      "Homework: [100.0, 92.0, 98.0, 100.0]\n",
      "Quizzes: [82.0, 83.0, 91.0]\n",
      "Tests: [89.0, 97.0]\n",
      "Name: Tyler\n",
      "Homework: [0.0, 87.0, 75.0, 22.0]\n",
      "Quizzes: [0.0, 75.0, 78.0]\n",
      "Tests: [100.0, 100.0]\n",
      "Lloyd's Letter Grade: B\n",
      "Class Average: 83.86666666666666\n"
     ]
    }
   ],
   "source": [
    "lloyd = {\n",
    "    \"name\": \"Lloyd\",\n",
    "    \"homework\": [90.0, 97.0, 75.0, 92.0],\n",
    "    \"quizzes\": [88.0, 40.0, 94.0],\n",
    "    \"tests\": [75.0, 90.0]\n",
    "}\n",
    "alice = {\n",
    "    \"name\": \"Alice\",\n",
    "    \"homework\": [100.0, 92.0, 98.0, 100.0],\n",
    "    \"quizzes\": [82.0, 83.0, 91.0],\n",
    "    \"tests\": [89.0, 97.0]\n",
    "}\n",
    "tyler = {\n",
    "    \"name\": \"Tyler\",\n",
    "    \"homework\": [0.0, 87.0, 75.0, 22.0],\n",
    "    \"quizzes\": [0.0, 75.0, 78.0],\n",
    "    \"tests\": [100.0, 100.0]\n",
    "}\n",
    "\n",
    "students = [lloyd, alice, tyler]\n",
    "\n",
    "for student in students:\n",
    "    print(\"Name:\", student[\"name\"])\n",
    "    print(\"Homework:\", student[\"homework\"])\n",
    "    print(\"Quizzes:\", student[\"quizzes\"])\n",
    "    print(\"Tests:\", student[\"tests\"])\n",
    "\n",
    "def average(numbers):\n",
    "    total = sum(numbers)\n",
    "    total = float(total)\n",
    "    return total / len(numbers)\n",
    "\n",
    "def get_average(student):\n",
    "    homework = average(student[\"homework\"])\n",
    "    quizzes = average(student[\"quizzes\"])\n",
    "    tests = average(student[\"tests\"])\n",
    "    return 0.1 * homework + 0.3 * quizzes + 0.6 * tests\n",
    "\n",
    "def get_letter_grade(score):\n",
    "    if score >= 90:\n",
    "        return \"A\"\n",
    "    elif score >= 80:\n",
    "        return \"B\"\n",
    "    elif score >= 70:\n",
    "        return \"C\"\n",
    "    elif score >= 60:\n",
    "        return \"D\"\n",
    "    else:\n",
    "        return \"F\"\n",
    "\n",
    "lloyd_grade = get_average(lloyd)\n",
    "lloyd_letter = get_letter_grade(lloyd_grade)\n",
    "print(\"Lloyd's Letter Grade:\", lloyd_letter)\n",
    "\n",
    "def get_class_average(students):\n",
    "    results = []\n",
    "    for student in students:\n",
    "        student_average = get_average(student)\n",
    "        results.append(student_average)\n",
    "    return average(results)\n",
    "\n",
    "class_average = get_class_average(students)\n",
    "print(\"Class Average:\", class_average)\n"
   ]
  },
  {
   "cell_type": "code",
   "execution_count": null,
   "id": "9e9a8786-49d3-430c-9b89-662aba28b27c",
   "metadata": {},
   "outputs": [],
   "source": [
    "coursename = {\n",
    "    'COP 2510': 'Programming Concepts',\n",
    "    'EGN 3000L': 'Foundations of Engineering Lab',\n",
    "    'MAC 2281': 'Calculus I',\n",
    "    'MUH 3016': 'Survey of Jazz',\n",
    "    'PHY 2048': 'General Physics I'\n",
    "}\n",
    "\n",
    "instructor = {\n",
    "    'COP 2510': 'Z. Beasley',\n",
    "    'EGN 3000L': 'J. Anderson',\n",
    "    'MAC 2281': 'A. Makaryus',\n",
    "    'MUH 3016': 'A. Wilkins',\n",
    "    'PHY 2048': 'G. Pradhan'\n",
    "}\n",
    "\n",
    "classtime = {\n",
    "    'COP 2510': 'MW 12:30pm – 1:45pm',\n",
    "    'EGN 3000L': 'TR 11:00am – 12:15pm',\n",
    "    'MAC 2281': 'MW 9:30am – 10:45am',\n",
    "    'MUH 3016': 'online asynchronous',\n",
    "    'PHY 2048': 'TR 5:00pm – 6:15pm'\n",
    "}\n",
    "\n",
    "def display_course_info(course_number):\n",
    "    if course_number in course_name:\n",
    "        print(\"The course details are:\")\n",
    "        print(\"Course Name:\", course_name [course_number])\n",
    "        print(\"Instructor:\", instructor [course_number])\n",
    "        print(\"Class Times:\", classtime [course_number])\n",
    "    else:\n",
    "        print(\"course_number, is an invalid course number, please enter the correct course.\")\n",
    "\n",
    "\n",
    "course_number = input(\"Enter a course number: \")\n",
    "display_course_info(course_number)\n"
   ]
  },
  {
   "cell_type": "code",
   "execution_count": 1,
   "id": "dd0c94fd-71b9-4328-baed-d9bbd6a9e15d",
   "metadata": {},
   "outputs": [
    {
     "name": "stdin",
     "output_type": "stream",
     "text": [
      "Enter the sales for Sunday: $ 1\n",
      "Enter the sales for Monday: $ 1\n",
      "Enter the sales for Tuesday: $ 1\n",
      "Enter the sales for Wednesday: $ 1\n",
      "Enter the sales for Thursday: $ 1\n",
      "Enter the sales for Friday: $ 1\n",
      "Enter the sales for Saturday: $ -1\n"
     ]
    },
    {
     "name": "stdout",
     "output_type": "stream",
     "text": [
      "Input was invalid. Please enter a valid number.\n"
     ]
    },
    {
     "name": "stdin",
     "output_type": "stream",
     "text": [
      "Enter the sales for Saturday: $ 1\n"
     ]
    },
    {
     "name": "stdout",
     "output_type": "stream",
     "text": [
      "The total sales is: $7.00\n",
      "The minimum sale amount was: $1.00\n",
      "The maximum sale amount was: $1.00\n"
     ]
    }
   ],
   "source": [
    "week = ('Sunday', 'Monday', 'Tuesday', 'Wednesday', 'Thursday', 'Friday', 'Saturday')\n",
    "\n",
    "sales = []\n",
    "\n",
    "def inputsales(day):\n",
    "    while True:\n",
    "        try:\n",
    "            sales = float(input(f\"Enter the sales for {day}: $\"))\n",
    "            if sales >= 0:\n",
    "                return sales\n",
    "            else:\n",
    "                print(\"Input was invalid. Please enter a valid number.\")\n",
    "        except ValueError:\n",
    "            print(\"Input was invalid. Please enter a valid number.\")\n",
    "\n",
    "for day in week:\n",
    "    sale = inputsales(day)\n",
    "    sales.append(sale)\n",
    "\n",
    "total = sum(sales)\n",
    "min = min(sales)\n",
    "max = max(sales)\n",
    "\n",
    "total_sales = \"${:,.2f}\".format(total)\n",
    "min_sale = \"${:,.2f}\".format(min)\n",
    "max_sale = \"${:,.2f}\".format(max)\n",
    "\n",
    "print(f\"The total sales is: {total_sales}\")\n",
    "print(f\"The minimum sale amount was: {min_sale}\")\n",
    "print(f\"The maximum sale amount was: {max_sale}\")\n"
   ]
  },
  {
   "cell_type": "code",
   "execution_count": 1,
   "id": "92450876-9c4c-4eec-8af9-ca9694d405be",
   "metadata": {},
   "outputs": [
    {
     "name": "stdin",
     "output_type": "stream",
     "text": [
      "Enter the string to be converted to Morse code:  help \n"
     ]
    },
    {
     "name": "stdout",
     "output_type": "stream",
     "text": [
      ".... . .-.. .--.   \n"
     ]
    }
   ],
   "source": [
    "morse_code_char = {\n",
    "    'space' : 'space','comma' : '--..--','period' :'.-.-.-',\n",
    "    '0': '-----', '1': '.----', '2': '..---', '3': '...--','4': '....-',\n",
    "    '5': '.....', '6': '-....', '7': '--...', '8': '---..','9': '----.',\n",
    "    'A': '.-', 'B': '-...', 'C': '-.-.', 'D': '-..', 'E': '.',\n",
    "    'F': '..-.', 'G': '--.', 'H': '....', 'I': '..', 'J': '.---',\n",
    "    'K': '-.-', 'L': '.-..', 'M': '--', 'N': '-.', 'O': '---',\n",
    "    'P': '.--.', 'Q': '--.-', 'R': '.-.', 'S': '...', 'T': '-',\n",
    "    'U': '..-', 'V': '...-', 'W': '.--', 'X': '-..-', 'Y': '-.--',\n",
    "    'Z': '--..',' ': ' '\n",
    "}\n",
    "\n",
    "def string_to_morse(input_string):\n",
    "    morse_code = ''\n",
    "    for char in input_string.upper():\n",
    "        if char in morse_code_char:\n",
    "            morse_code += morse_code_char [char] + ' '\n",
    "        else:\n",
    "            morse_code += char + ' '\n",
    "\n",
    "    return morse_code\n",
    "\n",
    "input_string = input(\"Enter the string to be converted to Morse code: \")\n",
    "\n",
    "morse_result = string_to_morse(input_string)\n",
    "\n",
    "print(morse_result)"
   ]
  },
  {
   "cell_type": "code",
   "execution_count": null,
   "id": "e3df1fc6-5ee6-48ba-94cc-e4cdaf83b4e7",
   "metadata": {},
   "outputs": [],
   "source": []
  }
 ],
 "metadata": {
  "kernelspec": {
   "display_name": "Python 3 (ipykernel)",
   "language": "python",
   "name": "python3"
  },
  "language_info": {
   "codemirror_mode": {
    "name": "ipython",
    "version": 3
   },
   "file_extension": ".py",
   "mimetype": "text/x-python",
   "name": "python",
   "nbconvert_exporter": "python",
   "pygments_lexer": "ipython3",
   "version": "3.10.5"
  }
 },
 "nbformat": 4,
 "nbformat_minor": 5
}
